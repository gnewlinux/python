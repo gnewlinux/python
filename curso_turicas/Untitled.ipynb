{
 "cells": [
  {
   "cell_type": "code",
   "execution_count": 14,
   "metadata": {},
   "outputs": [
    {
     "name": "stdout",
     "output_type": "stream",
     "text": [
      "Digite o estado: sp\n",
      "41262199\n"
     ]
    }
   ],
   "source": [
    "import csv\n",
    "\n",
    "arquivo = open('brasil.csv', encoding='utf8')\n",
    "populacao = 0\n",
    "estado = input('Digite o estado: ')\n",
    "estado = estado.upper()\n",
    "\n",
    "for registro in csv.reader(arquivo):\n",
    "    habitantes = registro[2]\n",
    "    if registro[0] == estado:\n",
    "        populacao += int(habitantes)\n",
    "        \n",
    "print(populacao)"
   ]
  },
  {
   "cell_type": "code",
   "execution_count": null,
   "metadata": {},
   "outputs": [],
   "source": []
  },
  {
   "cell_type": "code",
   "execution_count": null,
   "metadata": {},
   "outputs": [],
   "source": []
  },
  {
   "cell_type": "code",
   "execution_count": null,
   "metadata": {},
   "outputs": [],
   "source": []
  }
 ],
 "metadata": {
  "kernelspec": {
   "display_name": "Python 3",
   "language": "python",
   "name": "python3"
  },
  "language_info": {
   "codemirror_mode": {
    "name": "ipython",
    "version": 3
   },
   "file_extension": ".py",
   "mimetype": "text/x-python",
   "name": "python",
   "nbconvert_exporter": "python",
   "pygments_lexer": "ipython3",
   "version": "3.6.5rc1"
  }
 },
 "nbformat": 4,
 "nbformat_minor": 2
}
